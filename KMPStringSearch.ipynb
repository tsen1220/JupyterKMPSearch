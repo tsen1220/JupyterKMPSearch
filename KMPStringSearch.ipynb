{
 "cells": [
  {
   "cell_type": "code",
   "execution_count": 82,
   "metadata": {},
   "outputs": [],
   "source": [
    "def KMPSearch(pattern, text):\n",
    "\n",
    "    upperPattern=pattern.upper()\n",
    "    upperText=text.upper()\n",
    "    \n",
    "    failure = get_failure_array(upperPattern)\n",
    "    \n",
    "    i = 0\n",
    "    j = 0\n",
    "    \n",
    "    while i < len(upperText):\n",
    "        if upperPattern[j] == upperText[i]:\n",
    "            if j == (len(upperPattern) - 1):\n",
    "                return True\n",
    "            j += 1\n",
    "\n",
    "        elif j > 0:\n",
    "            j = failure[j - 1]\n",
    "            continue\n",
    "        i += 1\n",
    "    return False"
   ]
  },
  {
   "cell_type": "code",
   "execution_count": 83,
   "metadata": {},
   "outputs": [],
   "source": [
    "def get_failure_array(pattern):\n",
    "\n",
    "    failure = [0]\n",
    "    i = 0\n",
    "    j = 1\n",
    "    while j < len(pattern):\n",
    "        if pattern[i] == pattern[j]:\n",
    "            i += 1\n",
    "        elif i > 0:\n",
    "            i = failure[i-1]\n",
    "            continue\n",
    "        j += 1\n",
    "        failure.append(i)\n",
    "    return failure"
   ]
  },
  {
   "cell_type": "code",
   "execution_count": 85,
   "metadata": {},
   "outputs": [
    {
     "data": {
      "text/plain": [
       "True"
      ]
     },
     "execution_count": 85,
     "metadata": {},
     "output_type": "execute_result"
    }
   ],
   "source": [
    "kmp(\"AbCaB\",\"ABABABCABCCC\")"
   ]
  }
 ],
 "metadata": {
  "kernelspec": {
   "display_name": "Python 3",
   "language": "python",
   "name": "python3"
  },
  "language_info": {
   "codemirror_mode": {
    "name": "ipython",
    "version": 3
   },
   "file_extension": ".py",
   "mimetype": "text/x-python",
   "name": "python",
   "nbconvert_exporter": "python",
   "pygments_lexer": "ipython3",
   "version": "3.7.5"
  }
 },
 "nbformat": 4,
 "nbformat_minor": 2
}
