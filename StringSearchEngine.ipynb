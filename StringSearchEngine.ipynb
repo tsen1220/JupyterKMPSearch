{
 "cells": [
  {
   "cell_type": "code",
   "execution_count": 34,
   "metadata": {},
   "outputs": [],
   "source": [
    "def kmp(pattern, text):\n",
    "\n",
    "    # 1) Construct the failure array\n",
    "    failure = get_failure_array(pattern)\n",
    "\n",
    "    # 2) Step through text searching for pattern\n",
    "    i, j = 0, 0  # index into text, pattern\n",
    "    while i < len(text):\n",
    "        if pattern[j] == text[i]:\n",
    "            if j == (len(pattern) - 1):\n",
    "                return True\n",
    "            j += 1\n",
    "\n",
    "        # if this is a prefix in our pattern\n",
    "        # just go back far enough to continue\n",
    "        elif j > 0:\n",
    "            j = failure[j - 1]\n",
    "            print(j)\n",
    "            continue\n",
    "        i += 1\n",
    "    return False"
   ]
  },
  {
   "cell_type": "code",
   "execution_count": 35,
   "metadata": {},
   "outputs": [],
   "source": [
    "def get_failure_array(pattern):\n",
    "\n",
    "    failure = [0]\n",
    "    i = 0\n",
    "    j = 1\n",
    "    while j < len(pattern):\n",
    "        if pattern[i] == pattern[j]:\n",
    "            i += 1\n",
    "        elif i > 0:\n",
    "            i = failure[i-1]\n",
    "            continue\n",
    "        j += 1\n",
    "        failure.append(i)\n",
    "        print(failure)\n",
    "    return failure"
   ]
  },
  {
   "cell_type": "code",
   "execution_count": 36,
   "metadata": {},
   "outputs": [
    {
     "name": "stdout",
     "output_type": "stream",
     "text": [
      "[0, 1]\n",
      "[0, 1, 2]\n",
      "[0, 1, 2, 0]\n",
      "0\n",
      "2\n",
      "2\n"
     ]
    },
    {
     "data": {
      "text/plain": [
       "True"
      ]
     },
     "execution_count": 36,
     "metadata": {},
     "output_type": "execute_result"
    }
   ],
   "source": [
    "kmp(\"AAAB\",\"ABAAAAAB\")"
   ]
  },
  {
   "cell_type": "code",
   "execution_count": null,
   "metadata": {},
   "outputs": [],
   "source": []
  }
 ],
 "metadata": {
  "kernelspec": {
   "display_name": "Python 3",
   "language": "python",
   "name": "python3"
  },
  "language_info": {
   "codemirror_mode": {
    "name": "ipython",
    "version": 3
   },
   "file_extension": ".py",
   "mimetype": "text/x-python",
   "name": "python",
   "nbconvert_exporter": "python",
   "pygments_lexer": "ipython3",
   "version": "3.7.5"
  }
 },
 "nbformat": 4,
 "nbformat_minor": 2
}
